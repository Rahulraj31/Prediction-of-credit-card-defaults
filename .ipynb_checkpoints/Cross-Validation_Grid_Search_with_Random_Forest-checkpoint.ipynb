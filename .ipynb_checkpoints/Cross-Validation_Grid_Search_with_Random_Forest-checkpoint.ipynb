{
 "cells": [
  {
   "cell_type": "markdown",
   "metadata": {},
   "source": [
    "**Run the following two cells before you begin.**"
   ]
  },
  {
   "cell_type": "code",
   "execution_count": 1,
   "metadata": {},
   "outputs": [
    {
     "data": {
      "application/javascript": [
       "IPython.notebook.set_autosave_interval(10000)"
      ]
     },
     "metadata": {},
     "output_type": "display_data"
    },
    {
     "name": "stdout",
     "output_type": "stream",
     "text": [
      "Autosaving every 10 seconds\n"
     ]
    }
   ],
   "source": [
    "%autosave 10"
   ]
  },
  {
   "cell_type": "code",
   "execution_count": 2,
   "metadata": {},
   "outputs": [],
   "source": [
    "import pandas as pd\n",
    "import numpy as np\n",
    "import matplotlib.pyplot as plt\n",
    "\n",
    "%matplotlib inline\n",
    "\n",
    "df = pd.read_csv('cleaned_data.csv')"
   ]
  },
  {
   "cell_type": "markdown",
   "metadata": {},
   "source": [
    "**Run the following 3 cells to create a list of features, create a train/test split, and instantiate a random forest classifier.**"
   ]
  },
  {
   "cell_type": "code",
   "execution_count": 3,
   "metadata": {},
   "outputs": [
    {
     "data": {
      "text/plain": [
       "['LIMIT_BAL',\n",
       " 'EDUCATION',\n",
       " 'MARRIAGE',\n",
       " 'AGE',\n",
       " 'PAY_1',\n",
       " 'BILL_AMT1',\n",
       " 'BILL_AMT2',\n",
       " 'BILL_AMT3',\n",
       " 'BILL_AMT4',\n",
       " 'BILL_AMT5',\n",
       " 'BILL_AMT6',\n",
       " 'PAY_AMT1',\n",
       " 'PAY_AMT2',\n",
       " 'PAY_AMT3',\n",
       " 'PAY_AMT4',\n",
       " 'PAY_AMT5',\n",
       " 'PAY_AMT6',\n",
       " 'default payment next month']"
      ]
     },
     "execution_count": 3,
     "metadata": {},
     "output_type": "execute_result"
    }
   ],
   "source": [
    "features_response = df.columns.tolist()\n",
    "items_to_remove = ['ID', 'SEX', 'PAY_2', 'PAY_3', 'PAY_4', 'PAY_5', 'PAY_6',\n",
    "                   'EDUCATION_CAT', 'graduate school', 'high school', 'none',\n",
    "                   'others', 'university']\n",
    "features_response = [item for item in features_response if item not in items_to_remove]\n",
    "features_response"
   ]
  },
  {
   "cell_type": "code",
   "execution_count": 4,
   "metadata": {},
   "outputs": [],
   "source": [
    "from sklearn.model_selection import train_test_split\n",
    "\n",
    "X_train, X_test, y_train, y_test = train_test_split(\n",
    "    df[features_response[:-1]].values,\n",
    "    df['default payment next month'].values,\n",
    "    test_size=0.2, random_state=24\n",
    ")"
   ]
  },
  {
   "cell_type": "code",
   "execution_count": 5,
   "metadata": {},
   "outputs": [],
   "source": [
    "from sklearn.ensemble import RandomForestClassifier\n",
    "\n",
    "rf = RandomForestClassifier(\n",
    "    n_estimators=10, criterion='gini', max_depth=3,\n",
    "    min_samples_split=2, min_samples_leaf=1, min_weight_fraction_leaf=0.0,\n",
    "    max_features='auto', max_leaf_nodes=None, min_impurity_decrease=0.0,\n",
    "    min_impurity_split=None, bootstrap=True, oob_score=False, n_jobs=None,\n",
    "    random_state=4, verbose=0, warm_start=False, class_weight=None\n",
    ")"
   ]
  },
  {
   "cell_type": "markdown",
   "metadata": {},
   "source": [
    "**Create a dictionary representing the grid for the `max_depth` and `n_estimators` hyperparameters that will be searched. Include depths of 3, 6, 9, and 12, and 10, 50, 100, and 200 trees.**"
   ]
  },
  {
   "cell_type": "code",
   "execution_count": 6,
   "metadata": {},
   "outputs": [],
   "source": [
    "parameters = {'max_depth' : [3,6,9,12],\n",
    "              'n_estimators' : [10,50,100,200]}"
   ]
  },
  {
   "cell_type": "markdown",
   "metadata": {},
   "source": [
    "________________________________________________________________\n",
    "**Instantiate a `GridSearchCV` object using the same options that we have previously in this course, but with the dictionary of hyperparameters created above. Set `verbose=2` to see the output for each fit performed.**"
   ]
  },
  {
   "cell_type": "code",
   "execution_count": 7,
   "metadata": {},
   "outputs": [],
   "source": [
    "from sklearn.model_selection import GridSearchCV\n",
    "gs = GridSearchCV(estimator = rf, param_grid = parameters, \n",
    "                          cv = 5, n_jobs = -1, verbose = 2)"
   ]
  },
  {
   "cell_type": "markdown",
   "metadata": {},
   "source": [
    "____________________________________________________\n",
    "**Fit the `GridSearchCV` object on the training data.**"
   ]
  },
  {
   "cell_type": "code",
   "execution_count": 8,
   "metadata": {},
   "outputs": [
    {
     "name": "stdout",
     "output_type": "stream",
     "text": [
      "Fitting 5 folds for each of 16 candidates, totalling 80 fits\n"
     ]
    },
    {
     "name": "stderr",
     "output_type": "stream",
     "text": [
      "[Parallel(n_jobs=-1)]: Using backend LokyBackend with 8 concurrent workers.\n",
      "[Parallel(n_jobs=-1)]: Done  25 tasks      | elapsed:   16.1s\n",
      "[Parallel(n_jobs=-1)]: Done  80 out of  80 | elapsed:  1.3min finished\n"
     ]
    },
    {
     "data": {
      "text/plain": [
       "GridSearchCV(cv=5, error_score=nan,\n",
       "             estimator=RandomForestClassifier(bootstrap=True, ccp_alpha=0.0,\n",
       "                                              class_weight=None,\n",
       "                                              criterion='gini', max_depth=3,\n",
       "                                              max_features='auto',\n",
       "                                              max_leaf_nodes=None,\n",
       "                                              max_samples=None,\n",
       "                                              min_impurity_decrease=0.0,\n",
       "                                              min_impurity_split=None,\n",
       "                                              min_samples_leaf=1,\n",
       "                                              min_samples_split=2,\n",
       "                                              min_weight_fraction_leaf=0.0,\n",
       "                                              n_estimators=10, n_jobs=None,\n",
       "                                              oob_score=False, random_state=4,\n",
       "                                              verbose=0, warm_start=False),\n",
       "             iid='deprecated', n_jobs=-1,\n",
       "             param_grid={'max_depth': [3, 6, 9, 12],\n",
       "                         'n_estimators': [10, 50, 100, 200]},\n",
       "             pre_dispatch='2*n_jobs', refit=True, return_train_score=False,\n",
       "             scoring=None, verbose=2)"
      ]
     },
     "execution_count": 8,
     "metadata": {},
     "output_type": "execute_result"
    }
   ],
   "source": [
    "gs.fit(X_train,y_train)"
   ]
  },
  {
   "cell_type": "markdown",
   "metadata": {},
   "source": [
    "___________________________________________________________\n",
    "**Put the results of the grid search in a pandas DataFrame.**"
   ]
  },
  {
   "cell_type": "code",
   "execution_count": 9,
   "metadata": {
    "scrolled": true
   },
   "outputs": [
    {
     "data": {
      "text/html": [
       "<div>\n",
       "<style scoped>\n",
       "    .dataframe tbody tr th:only-of-type {\n",
       "        vertical-align: middle;\n",
       "    }\n",
       "\n",
       "    .dataframe tbody tr th {\n",
       "        vertical-align: top;\n",
       "    }\n",
       "\n",
       "    .dataframe thead th {\n",
       "        text-align: right;\n",
       "    }\n",
       "</style>\n",
       "<table border=\"1\" class=\"dataframe\">\n",
       "  <thead>\n",
       "    <tr style=\"text-align: right;\">\n",
       "      <th></th>\n",
       "      <th>mean_fit_time</th>\n",
       "      <th>std_fit_time</th>\n",
       "      <th>mean_score_time</th>\n",
       "      <th>std_score_time</th>\n",
       "      <th>param_max_depth</th>\n",
       "      <th>param_n_estimators</th>\n",
       "      <th>params</th>\n",
       "      <th>split0_test_score</th>\n",
       "      <th>split1_test_score</th>\n",
       "      <th>split2_test_score</th>\n",
       "      <th>split3_test_score</th>\n",
       "      <th>split4_test_score</th>\n",
       "      <th>mean_test_score</th>\n",
       "      <th>std_test_score</th>\n",
       "      <th>rank_test_score</th>\n",
       "    </tr>\n",
       "  </thead>\n",
       "  <tbody>\n",
       "    <tr>\n",
       "      <th>0</th>\n",
       "      <td>0.351618</td>\n",
       "      <td>0.044737</td>\n",
       "      <td>0.014337</td>\n",
       "      <td>0.004909</td>\n",
       "      <td>3</td>\n",
       "      <td>10</td>\n",
       "      <td>{'max_depth': 3, 'n_estimators': 10}</td>\n",
       "      <td>0.814390</td>\n",
       "      <td>0.819269</td>\n",
       "      <td>0.816925</td>\n",
       "      <td>0.824426</td>\n",
       "      <td>0.815284</td>\n",
       "      <td>0.818058</td>\n",
       "      <td>0.003590</td>\n",
       "      <td>11</td>\n",
       "    </tr>\n",
       "    <tr>\n",
       "      <th>1</th>\n",
       "      <td>1.635810</td>\n",
       "      <td>0.072606</td>\n",
       "      <td>0.044317</td>\n",
       "      <td>0.006836</td>\n",
       "      <td>3</td>\n",
       "      <td>50</td>\n",
       "      <td>{'max_depth': 3, 'n_estimators': 50}</td>\n",
       "      <td>0.812046</td>\n",
       "      <td>0.815284</td>\n",
       "      <td>0.814346</td>\n",
       "      <td>0.820206</td>\n",
       "      <td>0.813408</td>\n",
       "      <td>0.815058</td>\n",
       "      <td>0.002788</td>\n",
       "      <td>15</td>\n",
       "    </tr>\n",
       "    <tr>\n",
       "      <th>2</th>\n",
       "      <td>7.884598</td>\n",
       "      <td>0.218981</td>\n",
       "      <td>0.090371</td>\n",
       "      <td>0.008011</td>\n",
       "      <td>3</td>\n",
       "      <td>100</td>\n",
       "      <td>{'max_depth': 3, 'n_estimators': 100}</td>\n",
       "      <td>0.810640</td>\n",
       "      <td>0.812705</td>\n",
       "      <td>0.813408</td>\n",
       "      <td>0.820441</td>\n",
       "      <td>0.810830</td>\n",
       "      <td>0.813605</td>\n",
       "      <td>0.003580</td>\n",
       "      <td>16</td>\n",
       "    </tr>\n",
       "    <tr>\n",
       "      <th>3</th>\n",
       "      <td>9.613232</td>\n",
       "      <td>2.301344</td>\n",
       "      <td>0.167367</td>\n",
       "      <td>0.025539</td>\n",
       "      <td>3</td>\n",
       "      <td>200</td>\n",
       "      <td>{'max_depth': 3, 'n_estimators': 200}</td>\n",
       "      <td>0.811577</td>\n",
       "      <td>0.815518</td>\n",
       "      <td>0.814346</td>\n",
       "      <td>0.821378</td>\n",
       "      <td>0.813408</td>\n",
       "      <td>0.815246</td>\n",
       "      <td>0.003326</td>\n",
       "      <td>14</td>\n",
       "    </tr>\n",
       "    <tr>\n",
       "      <th>4</th>\n",
       "      <td>0.613526</td>\n",
       "      <td>0.053287</td>\n",
       "      <td>0.012232</td>\n",
       "      <td>0.001155</td>\n",
       "      <td>6</td>\n",
       "      <td>10</td>\n",
       "      <td>{'max_depth': 6, 'n_estimators': 10}</td>\n",
       "      <td>0.814390</td>\n",
       "      <td>0.818565</td>\n",
       "      <td>0.819972</td>\n",
       "      <td>0.826301</td>\n",
       "      <td>0.819503</td>\n",
       "      <td>0.819746</td>\n",
       "      <td>0.003825</td>\n",
       "      <td>10</td>\n",
       "    </tr>\n",
       "    <tr>\n",
       "      <th>5</th>\n",
       "      <td>2.928353</td>\n",
       "      <td>0.067968</td>\n",
       "      <td>0.054516</td>\n",
       "      <td>0.006814</td>\n",
       "      <td>6</td>\n",
       "      <td>50</td>\n",
       "      <td>{'max_depth': 6, 'n_estimators': 50}</td>\n",
       "      <td>0.815561</td>\n",
       "      <td>0.819034</td>\n",
       "      <td>0.819737</td>\n",
       "      <td>0.826067</td>\n",
       "      <td>0.820206</td>\n",
       "      <td>0.820121</td>\n",
       "      <td>0.003390</td>\n",
       "      <td>8</td>\n",
       "    </tr>\n",
       "    <tr>\n",
       "      <th>6</th>\n",
       "      <td>5.331718</td>\n",
       "      <td>0.163855</td>\n",
       "      <td>0.124015</td>\n",
       "      <td>0.014928</td>\n",
       "      <td>6</td>\n",
       "      <td>100</td>\n",
       "      <td>{'max_depth': 6, 'n_estimators': 100}</td>\n",
       "      <td>0.815796</td>\n",
       "      <td>0.819972</td>\n",
       "      <td>0.819503</td>\n",
       "      <td>0.827004</td>\n",
       "      <td>0.820206</td>\n",
       "      <td>0.820496</td>\n",
       "      <td>0.003628</td>\n",
       "      <td>3</td>\n",
       "    </tr>\n",
       "    <tr>\n",
       "      <th>7</th>\n",
       "      <td>11.377828</td>\n",
       "      <td>0.264500</td>\n",
       "      <td>0.202383</td>\n",
       "      <td>0.012926</td>\n",
       "      <td>6</td>\n",
       "      <td>200</td>\n",
       "      <td>{'max_depth': 6, 'n_estimators': 200}</td>\n",
       "      <td>0.815796</td>\n",
       "      <td>0.819972</td>\n",
       "      <td>0.819269</td>\n",
       "      <td>0.826770</td>\n",
       "      <td>0.820675</td>\n",
       "      <td>0.820496</td>\n",
       "      <td>0.003557</td>\n",
       "      <td>3</td>\n",
       "    </tr>\n",
       "    <tr>\n",
       "      <th>8</th>\n",
       "      <td>0.881249</td>\n",
       "      <td>0.047768</td>\n",
       "      <td>0.016261</td>\n",
       "      <td>0.001338</td>\n",
       "      <td>9</td>\n",
       "      <td>10</td>\n",
       "      <td>{'max_depth': 9, 'n_estimators': 10}</td>\n",
       "      <td>0.809702</td>\n",
       "      <td>0.815987</td>\n",
       "      <td>0.819972</td>\n",
       "      <td>0.824895</td>\n",
       "      <td>0.816221</td>\n",
       "      <td>0.817355</td>\n",
       "      <td>0.005008</td>\n",
       "      <td>12</td>\n",
       "    </tr>\n",
       "    <tr>\n",
       "      <th>9</th>\n",
       "      <td>3.804648</td>\n",
       "      <td>0.125072</td>\n",
       "      <td>0.063083</td>\n",
       "      <td>0.002917</td>\n",
       "      <td>9</td>\n",
       "      <td>50</td>\n",
       "      <td>{'max_depth': 9, 'n_estimators': 50}</td>\n",
       "      <td>0.815796</td>\n",
       "      <td>0.818565</td>\n",
       "      <td>0.819503</td>\n",
       "      <td>0.826301</td>\n",
       "      <td>0.819972</td>\n",
       "      <td>0.820027</td>\n",
       "      <td>0.003455</td>\n",
       "      <td>9</td>\n",
       "    </tr>\n",
       "    <tr>\n",
       "      <th>10</th>\n",
       "      <td>8.840396</td>\n",
       "      <td>2.050886</td>\n",
       "      <td>0.266736</td>\n",
       "      <td>0.259838</td>\n",
       "      <td>9</td>\n",
       "      <td>100</td>\n",
       "      <td>{'max_depth': 9, 'n_estimators': 100}</td>\n",
       "      <td>0.816264</td>\n",
       "      <td>0.819503</td>\n",
       "      <td>0.819737</td>\n",
       "      <td>0.826535</td>\n",
       "      <td>0.819269</td>\n",
       "      <td>0.820262</td>\n",
       "      <td>0.003382</td>\n",
       "      <td>7</td>\n",
       "    </tr>\n",
       "    <tr>\n",
       "      <th>11</th>\n",
       "      <td>19.352255</td>\n",
       "      <td>0.327803</td>\n",
       "      <td>0.245364</td>\n",
       "      <td>0.006518</td>\n",
       "      <td>9</td>\n",
       "      <td>200</td>\n",
       "      <td>{'max_depth': 9, 'n_estimators': 200}</td>\n",
       "      <td>0.815327</td>\n",
       "      <td>0.819503</td>\n",
       "      <td>0.819737</td>\n",
       "      <td>0.827473</td>\n",
       "      <td>0.820675</td>\n",
       "      <td>0.820543</td>\n",
       "      <td>0.003924</td>\n",
       "      <td>2</td>\n",
       "    </tr>\n",
       "    <tr>\n",
       "      <th>12</th>\n",
       "      <td>1.983195</td>\n",
       "      <td>0.899280</td>\n",
       "      <td>0.040065</td>\n",
       "      <td>0.033578</td>\n",
       "      <td>12</td>\n",
       "      <td>10</td>\n",
       "      <td>{'max_depth': 12, 'n_estimators': 10}</td>\n",
       "      <td>0.816264</td>\n",
       "      <td>0.814112</td>\n",
       "      <td>0.816690</td>\n",
       "      <td>0.825598</td>\n",
       "      <td>0.813408</td>\n",
       "      <td>0.817214</td>\n",
       "      <td>0.004372</td>\n",
       "      <td>13</td>\n",
       "    </tr>\n",
       "    <tr>\n",
       "      <th>13</th>\n",
       "      <td>4.550910</td>\n",
       "      <td>0.125355</td>\n",
       "      <td>0.072190</td>\n",
       "      <td>0.009610</td>\n",
       "      <td>12</td>\n",
       "      <td>50</td>\n",
       "      <td>{'max_depth': 12, 'n_estimators': 50}</td>\n",
       "      <td>0.817436</td>\n",
       "      <td>0.817862</td>\n",
       "      <td>0.819737</td>\n",
       "      <td>0.827004</td>\n",
       "      <td>0.820441</td>\n",
       "      <td>0.820496</td>\n",
       "      <td>0.003442</td>\n",
       "      <td>6</td>\n",
       "    </tr>\n",
       "    <tr>\n",
       "      <th>14</th>\n",
       "      <td>9.311891</td>\n",
       "      <td>0.167268</td>\n",
       "      <td>0.146243</td>\n",
       "      <td>0.004915</td>\n",
       "      <td>12</td>\n",
       "      <td>100</td>\n",
       "      <td>{'max_depth': 12, 'n_estimators': 100}</td>\n",
       "      <td>0.815796</td>\n",
       "      <td>0.816925</td>\n",
       "      <td>0.820675</td>\n",
       "      <td>0.828645</td>\n",
       "      <td>0.820441</td>\n",
       "      <td>0.820496</td>\n",
       "      <td>0.004501</td>\n",
       "      <td>3</td>\n",
       "    </tr>\n",
       "    <tr>\n",
       "      <th>15</th>\n",
       "      <td>18.325772</td>\n",
       "      <td>0.095297</td>\n",
       "      <td>0.345792</td>\n",
       "      <td>0.027116</td>\n",
       "      <td>12</td>\n",
       "      <td>200</td>\n",
       "      <td>{'max_depth': 12, 'n_estimators': 200}</td>\n",
       "      <td>0.816967</td>\n",
       "      <td>0.817862</td>\n",
       "      <td>0.821613</td>\n",
       "      <td>0.828411</td>\n",
       "      <td>0.819034</td>\n",
       "      <td>0.820777</td>\n",
       "      <td>0.004124</td>\n",
       "      <td>1</td>\n",
       "    </tr>\n",
       "  </tbody>\n",
       "</table>\n",
       "</div>"
      ],
      "text/plain": [
       "    mean_fit_time  std_fit_time  mean_score_time  std_score_time  \\\n",
       "0        0.351618      0.044737         0.014337        0.004909   \n",
       "1        1.635810      0.072606         0.044317        0.006836   \n",
       "2        7.884598      0.218981         0.090371        0.008011   \n",
       "3        9.613232      2.301344         0.167367        0.025539   \n",
       "4        0.613526      0.053287         0.012232        0.001155   \n",
       "5        2.928353      0.067968         0.054516        0.006814   \n",
       "6        5.331718      0.163855         0.124015        0.014928   \n",
       "7       11.377828      0.264500         0.202383        0.012926   \n",
       "8        0.881249      0.047768         0.016261        0.001338   \n",
       "9        3.804648      0.125072         0.063083        0.002917   \n",
       "10       8.840396      2.050886         0.266736        0.259838   \n",
       "11      19.352255      0.327803         0.245364        0.006518   \n",
       "12       1.983195      0.899280         0.040065        0.033578   \n",
       "13       4.550910      0.125355         0.072190        0.009610   \n",
       "14       9.311891      0.167268         0.146243        0.004915   \n",
       "15      18.325772      0.095297         0.345792        0.027116   \n",
       "\n",
       "   param_max_depth param_n_estimators                                  params  \\\n",
       "0                3                 10    {'max_depth': 3, 'n_estimators': 10}   \n",
       "1                3                 50    {'max_depth': 3, 'n_estimators': 50}   \n",
       "2                3                100   {'max_depth': 3, 'n_estimators': 100}   \n",
       "3                3                200   {'max_depth': 3, 'n_estimators': 200}   \n",
       "4                6                 10    {'max_depth': 6, 'n_estimators': 10}   \n",
       "5                6                 50    {'max_depth': 6, 'n_estimators': 50}   \n",
       "6                6                100   {'max_depth': 6, 'n_estimators': 100}   \n",
       "7                6                200   {'max_depth': 6, 'n_estimators': 200}   \n",
       "8                9                 10    {'max_depth': 9, 'n_estimators': 10}   \n",
       "9                9                 50    {'max_depth': 9, 'n_estimators': 50}   \n",
       "10               9                100   {'max_depth': 9, 'n_estimators': 100}   \n",
       "11               9                200   {'max_depth': 9, 'n_estimators': 200}   \n",
       "12              12                 10   {'max_depth': 12, 'n_estimators': 10}   \n",
       "13              12                 50   {'max_depth': 12, 'n_estimators': 50}   \n",
       "14              12                100  {'max_depth': 12, 'n_estimators': 100}   \n",
       "15              12                200  {'max_depth': 12, 'n_estimators': 200}   \n",
       "\n",
       "    split0_test_score  split1_test_score  split2_test_score  \\\n",
       "0            0.814390           0.819269           0.816925   \n",
       "1            0.812046           0.815284           0.814346   \n",
       "2            0.810640           0.812705           0.813408   \n",
       "3            0.811577           0.815518           0.814346   \n",
       "4            0.814390           0.818565           0.819972   \n",
       "5            0.815561           0.819034           0.819737   \n",
       "6            0.815796           0.819972           0.819503   \n",
       "7            0.815796           0.819972           0.819269   \n",
       "8            0.809702           0.815987           0.819972   \n",
       "9            0.815796           0.818565           0.819503   \n",
       "10           0.816264           0.819503           0.819737   \n",
       "11           0.815327           0.819503           0.819737   \n",
       "12           0.816264           0.814112           0.816690   \n",
       "13           0.817436           0.817862           0.819737   \n",
       "14           0.815796           0.816925           0.820675   \n",
       "15           0.816967           0.817862           0.821613   \n",
       "\n",
       "    split3_test_score  split4_test_score  mean_test_score  std_test_score  \\\n",
       "0            0.824426           0.815284         0.818058        0.003590   \n",
       "1            0.820206           0.813408         0.815058        0.002788   \n",
       "2            0.820441           0.810830         0.813605        0.003580   \n",
       "3            0.821378           0.813408         0.815246        0.003326   \n",
       "4            0.826301           0.819503         0.819746        0.003825   \n",
       "5            0.826067           0.820206         0.820121        0.003390   \n",
       "6            0.827004           0.820206         0.820496        0.003628   \n",
       "7            0.826770           0.820675         0.820496        0.003557   \n",
       "8            0.824895           0.816221         0.817355        0.005008   \n",
       "9            0.826301           0.819972         0.820027        0.003455   \n",
       "10           0.826535           0.819269         0.820262        0.003382   \n",
       "11           0.827473           0.820675         0.820543        0.003924   \n",
       "12           0.825598           0.813408         0.817214        0.004372   \n",
       "13           0.827004           0.820441         0.820496        0.003442   \n",
       "14           0.828645           0.820441         0.820496        0.004501   \n",
       "15           0.828411           0.819034         0.820777        0.004124   \n",
       "\n",
       "    rank_test_score  \n",
       "0                11  \n",
       "1                15  \n",
       "2                16  \n",
       "3                14  \n",
       "4                10  \n",
       "5                 8  \n",
       "6                 3  \n",
       "7                 3  \n",
       "8                12  \n",
       "9                 9  \n",
       "10                7  \n",
       "11                2  \n",
       "12               13  \n",
       "13                6  \n",
       "14                3  \n",
       "15                1  "
      ]
     },
     "execution_count": 9,
     "metadata": {},
     "output_type": "execute_result"
    }
   ],
   "source": [
    "gs_df = pd.DataFrame(gs.cv_results_)\n",
    "gs_df"
   ]
  },
  {
   "cell_type": "markdown",
   "metadata": {},
   "source": [
    "**Find the best hyperparameters from the cross-validation.**"
   ]
  },
  {
   "cell_type": "code",
   "execution_count": 10,
   "metadata": {},
   "outputs": [
    {
     "data": {
      "text/plain": [
       "{'max_depth': 12, 'n_estimators': 200}"
      ]
     },
     "execution_count": 10,
     "metadata": {},
     "output_type": "execute_result"
    }
   ],
   "source": [
    "gs.best_params_"
   ]
  },
  {
   "cell_type": "code",
   "execution_count": 11,
   "metadata": {},
   "outputs": [
    {
     "data": {
      "text/plain": [
       "0.8207774511287191"
      ]
     },
     "execution_count": 11,
     "metadata": {},
     "output_type": "execute_result"
    }
   ],
   "source": [
    "gs.best_score_"
   ]
  },
  {
   "cell_type": "code",
   "execution_count": 12,
   "metadata": {},
   "outputs": [
    {
     "data": {
      "text/plain": [
       "{'mean_fit_time': array([ 0.351618  ,  1.63580995,  7.88459768,  9.61323195,  0.61352582,\n",
       "         2.92835283,  5.33171773, 11.37782793,  0.88124909,  3.80464768,\n",
       "         8.84039626, 19.35225544,  1.98319535,  4.55090995,  9.31189117,\n",
       "        18.32577181]),\n",
       " 'std_fit_time': array([0.04473694, 0.07260625, 0.21898102, 2.30134353, 0.05328682,\n",
       "        0.06796829, 0.16385545, 0.26449952, 0.0477678 , 0.12507186,\n",
       "        2.0508863 , 0.32780297, 0.89927961, 0.12535481, 0.16726844,\n",
       "        0.0952967 ]),\n",
       " 'mean_score_time': array([0.01433744, 0.04431696, 0.09037123, 0.16736674, 0.01223226,\n",
       "        0.05451617, 0.12401547, 0.20238252, 0.01626091, 0.06308317,\n",
       "        0.2667356 , 0.24536362, 0.04006472, 0.07219005, 0.14624324,\n",
       "        0.34579182]),\n",
       " 'std_score_time': array([0.0049088 , 0.00683587, 0.0080108 , 0.02553948, 0.00115493,\n",
       "        0.00681423, 0.01492793, 0.01292616, 0.0013383 , 0.00291689,\n",
       "        0.2598384 , 0.00651816, 0.03357773, 0.00960973, 0.00491541,\n",
       "        0.02711562]),\n",
       " 'param_max_depth': masked_array(data=[3, 3, 3, 3, 6, 6, 6, 6, 9, 9, 9, 9, 12, 12, 12, 12],\n",
       "              mask=[False, False, False, False, False, False, False, False,\n",
       "                    False, False, False, False, False, False, False, False],\n",
       "        fill_value='?',\n",
       "             dtype=object),\n",
       " 'param_n_estimators': masked_array(data=[10, 50, 100, 200, 10, 50, 100, 200, 10, 50, 100, 200,\n",
       "                    10, 50, 100, 200],\n",
       "              mask=[False, False, False, False, False, False, False, False,\n",
       "                    False, False, False, False, False, False, False, False],\n",
       "        fill_value='?',\n",
       "             dtype=object),\n",
       " 'params': [{'max_depth': 3, 'n_estimators': 10},\n",
       "  {'max_depth': 3, 'n_estimators': 50},\n",
       "  {'max_depth': 3, 'n_estimators': 100},\n",
       "  {'max_depth': 3, 'n_estimators': 200},\n",
       "  {'max_depth': 6, 'n_estimators': 10},\n",
       "  {'max_depth': 6, 'n_estimators': 50},\n",
       "  {'max_depth': 6, 'n_estimators': 100},\n",
       "  {'max_depth': 6, 'n_estimators': 200},\n",
       "  {'max_depth': 9, 'n_estimators': 10},\n",
       "  {'max_depth': 9, 'n_estimators': 50},\n",
       "  {'max_depth': 9, 'n_estimators': 100},\n",
       "  {'max_depth': 9, 'n_estimators': 200},\n",
       "  {'max_depth': 12, 'n_estimators': 10},\n",
       "  {'max_depth': 12, 'n_estimators': 50},\n",
       "  {'max_depth': 12, 'n_estimators': 100},\n",
       "  {'max_depth': 12, 'n_estimators': 200}],\n",
       " 'split0_test_score': array([0.8143895 , 0.81204593, 0.81063979, 0.81157722, 0.8143895 ,\n",
       "        0.81556128, 0.81579564, 0.81579564, 0.80970237, 0.81579564,\n",
       "        0.81626435, 0.81532693, 0.81626435, 0.81743614, 0.81579564,\n",
       "        0.81696742]),\n",
       " 'split1_test_score': array([0.81926864, 0.81528364, 0.81270511, 0.81551805, 0.8185654 ,\n",
       "        0.81903422, 0.81997187, 0.81997187, 0.81598687, 0.8185654 ,\n",
       "        0.81950305, 0.81950305, 0.81411158, 0.81786217, 0.81692452,\n",
       "        0.81786217]),\n",
       " 'split2_test_score': array([0.81692452, 0.81434599, 0.81340835, 0.81434599, 0.81997187,\n",
       "        0.81973746, 0.81950305, 0.81926864, 0.81997187, 0.81950305,\n",
       "        0.81973746, 0.81973746, 0.81669011, 0.81973746, 0.82067511,\n",
       "        0.82161275]),\n",
       " 'split3_test_score': array([0.82442569, 0.82020628, 0.82044069, 0.82137834, 0.82630098,\n",
       "        0.82606657, 0.82700422, 0.82676981, 0.82489451, 0.82630098,\n",
       "        0.8265354 , 0.82747304, 0.82559775, 0.82700422, 0.8286451 ,\n",
       "        0.82841069]),\n",
       " 'split4_test_score': array([0.81528364, 0.81340835, 0.81082982, 0.81340835, 0.81950305,\n",
       "        0.82020628, 0.82020628, 0.82067511, 0.81622128, 0.81997187,\n",
       "        0.81926864, 0.82067511, 0.81340835, 0.82044069, 0.82044069,\n",
       "        0.81903422]),\n",
       " 'mean_test_score': array([0.8180584 , 0.81505804, 0.81360475, 0.81524559, 0.81974616,\n",
       "        0.82012116, 0.82049621, 0.82049621, 0.81735538, 0.82002739,\n",
       "        0.82026178, 0.82054312, 0.81721443, 0.82049614, 0.82049621,\n",
       "        0.82077745]),\n",
       " 'std_test_score': array([0.00359034, 0.00278771, 0.00357964, 0.00332646, 0.00382528,\n",
       "        0.00339047, 0.00362753, 0.00355717, 0.00500824, 0.00345488,\n",
       "        0.00338156, 0.00392379, 0.00437199, 0.00344195, 0.00450093,\n",
       "        0.00412354]),\n",
       " 'rank_test_score': array([11, 15, 16, 14, 10,  8,  3,  3, 12,  9,  7,  2, 13,  6,  3,  1])}"
      ]
     },
     "execution_count": 12,
     "metadata": {},
     "output_type": "execute_result"
    }
   ],
   "source": [
    "gs.cv_results_"
   ]
  },
  {
   "cell_type": "markdown",
   "metadata": {},
   "source": [
    "________________________________________________________________________________________________________\n",
    "**Create a `pcolormesh` visualization of the mean testing score for each combination of hyperparameters.**\n",
    "\n",
    "<details>\n",
    "    <summary>Hint:</summary>\n",
    "    Remember to reshape the values of the mean testing scores to be a two-dimensional 4x4 grid.\n",
    "</details>"
   ]
  },
  {
   "cell_type": "code",
   "execution_count": 13,
   "metadata": {},
   "outputs": [],
   "source": [
    "# Create a 5x5 grid\n",
    "x,y = np.meshgrid(range(5), range(5))"
   ]
  },
  {
   "cell_type": "code",
   "execution_count": 14,
   "metadata": {},
   "outputs": [],
   "source": [
    "# Set color map to `plt.cm.jet`\n",
    "color_map= plt.cm.jet"
   ]
  },
  {
   "cell_type": "code",
   "execution_count": 15,
   "metadata": {
    "eid": "f0c62"
   },
   "outputs": [
    {
     "data": {
      "text/plain": [
       "Text(0, 0.5, 'Maximum depth')"
      ]
     },
     "execution_count": 15,
     "metadata": {},
     "output_type": "execute_result"
    },
    {
     "data": {
      "image/png": "[encoded data removed]",
      "text/plain": [
       "<Figure size 432x288 with 2 Axes>"
      ]
     },
     "metadata": {
      "needs_background": "light"
     },
     "output_type": "display_data"
    }
   ],
   "source": [
    "# Visualize pcolormesh\n",
    "ax = plt.axes()\n",
    "graph = ax.pcolormesh(x, y, gs_df['mean_test_score'].values.reshape((4,4)))\n",
    "plt.colorbar(graph, label='Mean Testing Score')\n",
    "ax.set_xlabel('Number of trees')\n",
    "ax.set_ylabel('Maximum depth')"
   ]
  },
  {
   "cell_type": "markdown",
   "metadata": {},
   "source": [
    "________________________________________________________________________________________________________\n",
    "**Conclude which set of hyperparameters to use.**"
   ]
  },
  {
   "cell_type": "code",
   "execution_count": 16,
   "metadata": {},
   "outputs": [
    {
     "data": {
      "text/plain": [
       "LIMIT_BAL                    -0.154423\n",
       "SEX                          -0.039945\n",
       "EDUCATION                     0.034966\n",
       "MARRIAGE                     -0.026030\n",
       "AGE                           0.014334\n",
       "PAY_1                         0.325365\n",
       "PAY_2                         0.263649\n",
       "PAY_3                         0.238085\n",
       "PAY_4                         0.219889\n",
       "PAY_5                         0.204948\n",
       "PAY_6                         0.190182\n",
       "BILL_AMT1                    -0.020508\n",
       "BILL_AMT2                    -0.014579\n",
       "BILL_AMT3                    -0.014649\n",
       "BILL_AMT4                    -0.011349\n",
       "BILL_AMT5                    -0.006753\n",
       "BILL_AMT6                    -0.006274\n",
       "PAY_AMT1                     -0.072431\n",
       "PAY_AMT2                     -0.061555\n",
       "PAY_AMT3                     -0.058010\n",
       "PAY_AMT4                     -0.054572\n",
       "PAY_AMT5                     -0.056651\n",
       "PAY_AMT6                     -0.054838\n",
       "default payment next month    1.000000\n",
       "graduate school              -0.049595\n",
       "high school                   0.035943\n",
       "others                       -0.044411\n",
       "university                    0.031817\n",
       "Name: default payment next month, dtype: float64"
      ]
     },
     "execution_count": 16,
     "metadata": {},
     "output_type": "execute_result"
    }
   ],
   "source": [
    "# Create a dataframe of the feature names and importance\n",
    "df.corr()['default payment next month']"
   ]
  },
  {
   "cell_type": "code",
   "execution_count": 17,
   "metadata": {},
   "outputs": [
    {
     "data": {
      "text/plain": [
       "array([0.0598768 , 0.01245122, 0.00781853, 0.04287095, 0.30459238,\n",
       "       0.05397308, 0.05202858, 0.04863935, 0.04617078, 0.04306215,\n",
       "       0.04571771, 0.0605955 , 0.05169707, 0.04825381, 0.04249536,\n",
       "       0.03998141, 0.03977532])"
      ]
     },
     "execution_count": 17,
     "metadata": {},
     "output_type": "execute_result"
    }
   ],
   "source": [
    "\n",
    "gs.best_estimator_.feature_importances_"
   ]
  },
  {
   "cell_type": "code",
   "execution_count": 18,
   "metadata": {},
   "outputs": [],
   "source": [
    "df_new = pd.DataFrame({'Feature name':features_response[:-1],\n",
    "                      'Importance':gs.best_estimator_.feature_importances_})"
   ]
  },
  {
   "cell_type": "code",
   "execution_count": 19,
   "metadata": {},
   "outputs": [
    {
     "data": {
      "text/html": [
       "<div>\n",
       "<style scoped>\n",
       "    .dataframe tbody tr th:only-of-type {\n",
       "        vertical-align: middle;\n",
       "    }\n",
       "\n",
       "    .dataframe tbody tr th {\n",
       "        vertical-align: top;\n",
       "    }\n",
       "\n",
       "    .dataframe thead th {\n",
       "        text-align: right;\n",
       "    }\n",
       "</style>\n",
       "<table border=\"1\" class=\"dataframe\">\n",
       "  <thead>\n",
       "    <tr style=\"text-align: right;\">\n",
       "      <th></th>\n",
       "      <th>Feature name</th>\n",
       "      <th>Importance</th>\n",
       "    </tr>\n",
       "  </thead>\n",
       "  <tbody>\n",
       "    <tr>\n",
       "      <th>4</th>\n",
       "      <td>PAY_1</td>\n",
       "      <td>0.304592</td>\n",
       "    </tr>\n",
       "    <tr>\n",
       "      <th>11</th>\n",
       "      <td>PAY_AMT1</td>\n",
       "      <td>0.060596</td>\n",
       "    </tr>\n",
       "    <tr>\n",
       "      <th>0</th>\n",
       "      <td>LIMIT_BAL</td>\n",
       "      <td>0.059877</td>\n",
       "    </tr>\n",
       "    <tr>\n",
       "      <th>5</th>\n",
       "      <td>BILL_AMT1</td>\n",
       "      <td>0.053973</td>\n",
       "    </tr>\n",
       "    <tr>\n",
       "      <th>6</th>\n",
       "      <td>BILL_AMT2</td>\n",
       "      <td>0.052029</td>\n",
       "    </tr>\n",
       "    <tr>\n",
       "      <th>12</th>\n",
       "      <td>PAY_AMT2</td>\n",
       "      <td>0.051697</td>\n",
       "    </tr>\n",
       "    <tr>\n",
       "      <th>7</th>\n",
       "      <td>BILL_AMT3</td>\n",
       "      <td>0.048639</td>\n",
       "    </tr>\n",
       "    <tr>\n",
       "      <th>13</th>\n",
       "      <td>PAY_AMT3</td>\n",
       "      <td>0.048254</td>\n",
       "    </tr>\n",
       "    <tr>\n",
       "      <th>8</th>\n",
       "      <td>BILL_AMT4</td>\n",
       "      <td>0.046171</td>\n",
       "    </tr>\n",
       "    <tr>\n",
       "      <th>10</th>\n",
       "      <td>BILL_AMT6</td>\n",
       "      <td>0.045718</td>\n",
       "    </tr>\n",
       "    <tr>\n",
       "      <th>9</th>\n",
       "      <td>BILL_AMT5</td>\n",
       "      <td>0.043062</td>\n",
       "    </tr>\n",
       "    <tr>\n",
       "      <th>3</th>\n",
       "      <td>AGE</td>\n",
       "      <td>0.042871</td>\n",
       "    </tr>\n",
       "    <tr>\n",
       "      <th>14</th>\n",
       "      <td>PAY_AMT4</td>\n",
       "      <td>0.042495</td>\n",
       "    </tr>\n",
       "    <tr>\n",
       "      <th>15</th>\n",
       "      <td>PAY_AMT5</td>\n",
       "      <td>0.039981</td>\n",
       "    </tr>\n",
       "    <tr>\n",
       "      <th>16</th>\n",
       "      <td>PAY_AMT6</td>\n",
       "      <td>0.039775</td>\n",
       "    </tr>\n",
       "    <tr>\n",
       "      <th>1</th>\n",
       "      <td>EDUCATION</td>\n",
       "      <td>0.012451</td>\n",
       "    </tr>\n",
       "    <tr>\n",
       "      <th>2</th>\n",
       "      <td>MARRIAGE</td>\n",
       "      <td>0.007819</td>\n",
       "    </tr>\n",
       "  </tbody>\n",
       "</table>\n",
       "</div>"
      ],
      "text/plain": [
       "   Feature name  Importance\n",
       "4         PAY_1    0.304592\n",
       "11     PAY_AMT1    0.060596\n",
       "0     LIMIT_BAL    0.059877\n",
       "5     BILL_AMT1    0.053973\n",
       "6     BILL_AMT2    0.052029\n",
       "12     PAY_AMT2    0.051697\n",
       "7     BILL_AMT3    0.048639\n",
       "13     PAY_AMT3    0.048254\n",
       "8     BILL_AMT4    0.046171\n",
       "10    BILL_AMT6    0.045718\n",
       "9     BILL_AMT5    0.043062\n",
       "3           AGE    0.042871\n",
       "14     PAY_AMT4    0.042495\n",
       "15     PAY_AMT5    0.039981\n",
       "16     PAY_AMT6    0.039775\n",
       "1     EDUCATION    0.012451\n",
       "2      MARRIAGE    0.007819"
      ]
     },
     "execution_count": 19,
     "metadata": {},
     "output_type": "execute_result"
    }
   ],
   "source": [
    "# Sort values by importance\n",
    "df_new.sort_values('Importance',ascending=False)"
   ]
  },
  {
   "cell_type": "code",
   "execution_count": null,
   "metadata": {},
   "outputs": [],
   "source": []
  }
 ],
 "metadata": {
  "kernelspec": {
   "display_name": "Python 3",
   "language": "python",
   "name": "python3"
  },
  "language_info": {
   "codemirror_mode": {
    "name": "ipython",
    "version": 3
   },
   "file_extension": ".py",
   "mimetype": "text/x-python",
   "name": "python",
   "nbconvert_exporter": "python",
   "pygments_lexer": "ipython3",
   "version": "3.7.6"
  }
 },
 "nbformat": 4,
 "nbformat_minor": 2
}

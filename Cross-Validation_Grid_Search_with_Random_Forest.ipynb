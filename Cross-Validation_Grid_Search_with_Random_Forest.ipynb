{
 "cells": [
  {
   "cell_type": "markdown",
   "metadata": {},
   "source": [
    "**Run the following two cells before you begin.**"
   ]
  },
  {
   "cell_type": "code",
   "execution_count": 1,
   "metadata": {},
   "outputs": [
    {
     "data": {
      "application/javascript": [
       "IPython.notebook.set_autosave_interval(10000)"
      ]
     },
     "metadata": {},
     "output_type": "display_data"
    },
    {
     "name": "stdout",
     "output_type": "stream",
     "text": [
      "Autosaving every 10 seconds\n"
     ]
    }
   ],
   "source": [
    "%autosave 10"
   ]
  },
  {
   "cell_type": "code",
   "execution_count": 2,
   "metadata": {},
   "outputs": [],
   "source": [
    "import pandas as pd\n",
    "import numpy as np\n",
    "import matplotlib.pyplot as plt\n",
    "\n",
    "%matplotlib inline\n",
    "\n",
    "df = pd.read_csv('cleaned_data.csv')"
   ]
  },
  {
   "cell_type": "markdown",
   "metadata": {},
   "source": [
    "**Run the following 3 cells to create a list of features, create a train/test split, and instantiate a random forest classifier.**"
   ]
  },
  {
   "cell_type": "code",
   "execution_count": 3,
   "metadata": {},
   "outputs": [
    {
     "data": {
      "text/plain": [
       "['LIMIT_BAL',\n",
       " 'EDUCATION',\n",
       " 'MARRIAGE',\n",
       " 'AGE',\n",
       " 'PAY_1',\n",
       " 'BILL_AMT1',\n",
       " 'BILL_AMT2',\n",
       " 'BILL_AMT3',\n",
       " 'BILL_AMT4',\n",
       " 'BILL_AMT5',\n",
       " 'BILL_AMT6',\n",
       " 'PAY_AMT1',\n",
       " 'PAY_AMT2',\n",
       " 'PAY_AMT3',\n",
       " 'PAY_AMT4',\n",
       " 'PAY_AMT5',\n",
       " 'PAY_AMT6',\n",
       " 'default payment next month']"
      ]
     },
     "execution_count": 3,
     "metadata": {},
     "output_type": "execute_result"
    }
   ],
   "source": [
    "features_response = df.columns.tolist()\n",
    "items_to_remove = ['ID', 'SEX', 'PAY_2', 'PAY_3', 'PAY_4', 'PAY_5', 'PAY_6',\n",
    "                   'EDUCATION_CAT', 'graduate school', 'high school', 'none',\n",
    "                   'others', 'university']\n",
    "features_response = [item for item in features_response if item not in items_to_remove]\n",
    "features_response"
   ]
  },
  {
   "cell_type": "code",
   "execution_count": 4,
   "metadata": {},
   "outputs": [],
   "source": [
    "from sklearn.model_selection import train_test_split\n",
    "\n",
    "X_train, X_test, y_train, y_test = train_test_split(\n",
    "    df[features_response[:-1]].values,\n",
    "    df['default payment next month'].values,\n",
    "    test_size=0.2, random_state=24\n",
    ")"
   ]
  },
  {
   "cell_type": "code",
   "execution_count": 5,
   "metadata": {},
   "outputs": [],
   "source": [
    "from sklearn.ensemble import RandomForestClassifier\n",
    "\n",
    "rf = RandomForestClassifier(\n",
    "    n_estimators=10, criterion='gini', max_depth=3,\n",
    "    min_samples_split=2, min_samples_leaf=1, min_weight_fraction_leaf=0.0,\n",
    "    max_features='auto', max_leaf_nodes=None, min_impurity_decrease=0.0,\n",
    "    min_impurity_split=None, bootstrap=True, oob_score=False, n_jobs=None,\n",
    "    random_state=4, verbose=0, warm_start=False, class_weight=None\n",
    ")"
   ]
  },
  {
   "cell_type": "markdown",
   "metadata": {},
   "source": [
    "**Create a dictionary representing the grid for the `max_depth` and `n_estimators` hyperparameters that will be searched. Include depths of 3, 6, 9, and 12, and 10, 50, 100, and 200 trees.**"
   ]
  },
  {
   "cell_type": "code",
   "execution_count": 6,
   "metadata": {},
   "outputs": [],
   "source": [
    "parameters = {'max_depth' : [3,6,9,12],\n",
    "              'n_estimators' : [10,50,100,200]}"
   ]
  },
  {
   "cell_type": "markdown",
   "metadata": {},
   "source": [
    "________________________________________________________________\n",
    "**Instantiate a `GridSearchCV` object using the same options that we have previously in this course, but with the dictionary of hyperparameters created above. Set `verbose=2` to see the output for each fit performed.**"
   ]
  },
  {
   "cell_type": "code",
   "execution_count": 7,
   "metadata": {},
   "outputs": [],
   "source": [
    "from sklearn.model_selection import GridSearchCV\n",
    "gs = GridSearchCV(estimator = rf, param_grid = parameters, \n",
    "                          cv = 5, n_jobs = -1, verbose = 2)"
   ]
  },
  {
   "cell_type": "markdown",
   "metadata": {},
   "source": [
    "____________________________________________________\n",
    "**Fit the `GridSearchCV` object on the training data.**"
   ]
  },
  {
   "cell_type": "code",
   "execution_count": 8,
   "metadata": {},
   "outputs": [
    {
     "name": "stdout",
     "output_type": "stream",
     "text": [
      "Fitting 5 folds for each of 16 candidates, totalling 80 fits\n"
     ]
    },
    {
     "name": "stderr",
     "output_type": "stream",
     "text": [
      "[Parallel(n_jobs=-1)]: Using backend LokyBackend with 8 concurrent workers.\n",
      "[Parallel(n_jobs=-1)]: Done  25 tasks      | elapsed:    8.1s\n",
      "[Parallel(n_jobs=-1)]: Done  80 out of  80 | elapsed:   40.7s finished\n"
     ]
    },
    {
     "data": {
      "text/plain": [
       "GridSearchCV(cv=5, error_score='raise-deprecating',\n",
       "             estimator=RandomForestClassifier(bootstrap=True, class_weight=None,\n",
       "                                              criterion='gini', max_depth=3,\n",
       "                                              max_features='auto',\n",
       "                                              max_leaf_nodes=None,\n",
       "                                              min_impurity_decrease=0.0,\n",
       "                                              min_impurity_split=None,\n",
       "                                              min_samples_leaf=1,\n",
       "                                              min_samples_split=2,\n",
       "                                              min_weight_fraction_leaf=0.0,\n",
       "                                              n_estimators=10, n_jobs=None,\n",
       "                                              oob_score=False, random_state=4,\n",
       "                                              verbose=0, warm_start=False),\n",
       "             iid='warn', n_jobs=-1,\n",
       "             param_grid={'max_depth': [3, 6, 9, 12],\n",
       "                         'n_estimators': [10, 50, 100, 200]},\n",
       "             pre_dispatch='2*n_jobs', refit=True, return_train_score=False,\n",
       "             scoring=None, verbose=2)"
      ]
     },
     "execution_count": 8,
     "metadata": {},
     "output_type": "execute_result"
    }
   ],
   "source": [
    "gs.fit(X_train,y_train)"
   ]
  },
  {
   "cell_type": "markdown",
   "metadata": {},
   "source": [
    "___________________________________________________________\n",
    "**Put the results of the grid search in a pandas DataFrame.**"
   ]
  },
  {
   "cell_type": "code",
   "execution_count": 9,
   "metadata": {
    "scrolled": true
   },
   "outputs": [
    {
     "data": {
      "text/html": [
       "<div>\n",
       "<style scoped>\n",
       "    .dataframe tbody tr th:only-of-type {\n",
       "        vertical-align: middle;\n",
       "    }\n",
       "\n",
       "    .dataframe tbody tr th {\n",
       "        vertical-align: top;\n",
       "    }\n",
       "\n",
       "    .dataframe thead th {\n",
       "        text-align: right;\n",
       "    }\n",
       "</style>\n",
       "<table border=\"1\" class=\"dataframe\">\n",
       "  <thead>\n",
       "    <tr style=\"text-align: right;\">\n",
       "      <th></th>\n",
       "      <th>mean_fit_time</th>\n",
       "      <th>std_fit_time</th>\n",
       "      <th>mean_score_time</th>\n",
       "      <th>std_score_time</th>\n",
       "      <th>param_max_depth</th>\n",
       "      <th>param_n_estimators</th>\n",
       "      <th>params</th>\n",
       "      <th>split0_test_score</th>\n",
       "      <th>split1_test_score</th>\n",
       "      <th>split2_test_score</th>\n",
       "      <th>split3_test_score</th>\n",
       "      <th>split4_test_score</th>\n",
       "      <th>mean_test_score</th>\n",
       "      <th>std_test_score</th>\n",
       "      <th>rank_test_score</th>\n",
       "    </tr>\n",
       "  </thead>\n",
       "  <tbody>\n",
       "    <tr>\n",
       "      <th>0</th>\n",
       "      <td>0.251040</td>\n",
       "      <td>0.018133</td>\n",
       "      <td>0.007384</td>\n",
       "      <td>0.001351</td>\n",
       "      <td>3</td>\n",
       "      <td>10</td>\n",
       "      <td>{'max_depth': 3, 'n_estimators': 10}</td>\n",
       "      <td>0.814390</td>\n",
       "      <td>0.819311</td>\n",
       "      <td>0.816690</td>\n",
       "      <td>0.822785</td>\n",
       "      <td>0.815006</td>\n",
       "      <td>0.817636</td>\n",
       "      <td>0.003088</td>\n",
       "      <td>12</td>\n",
       "    </tr>\n",
       "    <tr>\n",
       "      <th>1</th>\n",
       "      <td>1.059236</td>\n",
       "      <td>0.035086</td>\n",
       "      <td>0.023140</td>\n",
       "      <td>0.001466</td>\n",
       "      <td>3</td>\n",
       "      <td>50</td>\n",
       "      <td>{'max_depth': 3, 'n_estimators': 50}</td>\n",
       "      <td>0.812046</td>\n",
       "      <td>0.814390</td>\n",
       "      <td>0.814112</td>\n",
       "      <td>0.820675</td>\n",
       "      <td>0.813834</td>\n",
       "      <td>0.815011</td>\n",
       "      <td>0.002948</td>\n",
       "      <td>14</td>\n",
       "    </tr>\n",
       "    <tr>\n",
       "      <th>2</th>\n",
       "      <td>2.047320</td>\n",
       "      <td>0.063785</td>\n",
       "      <td>0.047474</td>\n",
       "      <td>0.004951</td>\n",
       "      <td>3</td>\n",
       "      <td>100</td>\n",
       "      <td>{'max_depth': 3, 'n_estimators': 100}</td>\n",
       "      <td>0.810640</td>\n",
       "      <td>0.812280</td>\n",
       "      <td>0.813174</td>\n",
       "      <td>0.819034</td>\n",
       "      <td>0.810317</td>\n",
       "      <td>0.813089</td>\n",
       "      <td>0.003152</td>\n",
       "      <td>16</td>\n",
       "    </tr>\n",
       "    <tr>\n",
       "      <th>3</th>\n",
       "      <td>4.215086</td>\n",
       "      <td>0.092631</td>\n",
       "      <td>0.120056</td>\n",
       "      <td>0.026697</td>\n",
       "      <td>3</td>\n",
       "      <td>200</td>\n",
       "      <td>{'max_depth': 3, 'n_estimators': 200}</td>\n",
       "      <td>0.811577</td>\n",
       "      <td>0.813218</td>\n",
       "      <td>0.813877</td>\n",
       "      <td>0.819972</td>\n",
       "      <td>0.813365</td>\n",
       "      <td>0.814402</td>\n",
       "      <td>0.002890</td>\n",
       "      <td>15</td>\n",
       "    </tr>\n",
       "    <tr>\n",
       "      <th>4</th>\n",
       "      <td>0.356447</td>\n",
       "      <td>0.009865</td>\n",
       "      <td>0.008178</td>\n",
       "      <td>0.002130</td>\n",
       "      <td>6</td>\n",
       "      <td>10</td>\n",
       "      <td>{'max_depth': 6, 'n_estimators': 10}</td>\n",
       "      <td>0.814390</td>\n",
       "      <td>0.820248</td>\n",
       "      <td>0.819737</td>\n",
       "      <td>0.825832</td>\n",
       "      <td>0.818288</td>\n",
       "      <td>0.819699</td>\n",
       "      <td>0.003691</td>\n",
       "      <td>10</td>\n",
       "    </tr>\n",
       "    <tr>\n",
       "      <th>5</th>\n",
       "      <td>1.902436</td>\n",
       "      <td>0.049403</td>\n",
       "      <td>0.035540</td>\n",
       "      <td>0.002969</td>\n",
       "      <td>6</td>\n",
       "      <td>50</td>\n",
       "      <td>{'max_depth': 6, 'n_estimators': 50}</td>\n",
       "      <td>0.815561</td>\n",
       "      <td>0.820951</td>\n",
       "      <td>0.819034</td>\n",
       "      <td>0.826067</td>\n",
       "      <td>0.820399</td>\n",
       "      <td>0.820402</td>\n",
       "      <td>0.003397</td>\n",
       "      <td>8</td>\n",
       "    </tr>\n",
       "    <tr>\n",
       "      <th>6</th>\n",
       "      <td>3.623855</td>\n",
       "      <td>0.094591</td>\n",
       "      <td>0.057846</td>\n",
       "      <td>0.009072</td>\n",
       "      <td>6</td>\n",
       "      <td>100</td>\n",
       "      <td>{'max_depth': 6, 'n_estimators': 100}</td>\n",
       "      <td>0.815796</td>\n",
       "      <td>0.820014</td>\n",
       "      <td>0.819269</td>\n",
       "      <td>0.827239</td>\n",
       "      <td>0.820164</td>\n",
       "      <td>0.820496</td>\n",
       "      <td>0.003726</td>\n",
       "      <td>6</td>\n",
       "    </tr>\n",
       "    <tr>\n",
       "      <th>7</th>\n",
       "      <td>7.035290</td>\n",
       "      <td>0.211472</td>\n",
       "      <td>0.110147</td>\n",
       "      <td>0.011747</td>\n",
       "      <td>6</td>\n",
       "      <td>200</td>\n",
       "      <td>{'max_depth': 6, 'n_estimators': 200}</td>\n",
       "      <td>0.815796</td>\n",
       "      <td>0.820717</td>\n",
       "      <td>0.818800</td>\n",
       "      <td>0.826770</td>\n",
       "      <td>0.819695</td>\n",
       "      <td>0.820355</td>\n",
       "      <td>0.003603</td>\n",
       "      <td>9</td>\n",
       "    </tr>\n",
       "    <tr>\n",
       "      <th>8</th>\n",
       "      <td>0.526606</td>\n",
       "      <td>0.038349</td>\n",
       "      <td>0.009175</td>\n",
       "      <td>0.002034</td>\n",
       "      <td>9</td>\n",
       "      <td>10</td>\n",
       "      <td>{'max_depth': 9, 'n_estimators': 10}</td>\n",
       "      <td>0.809702</td>\n",
       "      <td>0.816733</td>\n",
       "      <td>0.818331</td>\n",
       "      <td>0.827707</td>\n",
       "      <td>0.823447</td>\n",
       "      <td>0.819183</td>\n",
       "      <td>0.006123</td>\n",
       "      <td>11</td>\n",
       "    </tr>\n",
       "    <tr>\n",
       "      <th>9</th>\n",
       "      <td>2.419358</td>\n",
       "      <td>0.057485</td>\n",
       "      <td>0.040652</td>\n",
       "      <td>0.008018</td>\n",
       "      <td>9</td>\n",
       "      <td>50</td>\n",
       "      <td>{'max_depth': 9, 'n_estimators': 50}</td>\n",
       "      <td>0.815796</td>\n",
       "      <td>0.820248</td>\n",
       "      <td>0.820206</td>\n",
       "      <td>0.826067</td>\n",
       "      <td>0.821102</td>\n",
       "      <td>0.820684</td>\n",
       "      <td>0.003270</td>\n",
       "      <td>4</td>\n",
       "    </tr>\n",
       "    <tr>\n",
       "      <th>10</th>\n",
       "      <td>4.595256</td>\n",
       "      <td>0.077893</td>\n",
       "      <td>0.077737</td>\n",
       "      <td>0.010034</td>\n",
       "      <td>9</td>\n",
       "      <td>100</td>\n",
       "      <td>{'max_depth': 9, 'n_estimators': 100}</td>\n",
       "      <td>0.816264</td>\n",
       "      <td>0.820951</td>\n",
       "      <td>0.818565</td>\n",
       "      <td>0.828411</td>\n",
       "      <td>0.820399</td>\n",
       "      <td>0.820918</td>\n",
       "      <td>0.004089</td>\n",
       "      <td>2</td>\n",
       "    </tr>\n",
       "    <tr>\n",
       "      <th>11</th>\n",
       "      <td>8.929893</td>\n",
       "      <td>0.105405</td>\n",
       "      <td>0.132793</td>\n",
       "      <td>0.002622</td>\n",
       "      <td>9</td>\n",
       "      <td>200</td>\n",
       "      <td>{'max_depth': 9, 'n_estimators': 200}</td>\n",
       "      <td>0.815327</td>\n",
       "      <td>0.819077</td>\n",
       "      <td>0.820206</td>\n",
       "      <td>0.828176</td>\n",
       "      <td>0.819695</td>\n",
       "      <td>0.820496</td>\n",
       "      <td>0.004206</td>\n",
       "      <td>6</td>\n",
       "    </tr>\n",
       "    <tr>\n",
       "      <th>12</th>\n",
       "      <td>0.602452</td>\n",
       "      <td>0.008267</td>\n",
       "      <td>0.009576</td>\n",
       "      <td>0.000489</td>\n",
       "      <td>12</td>\n",
       "      <td>10</td>\n",
       "      <td>{'max_depth': 12, 'n_estimators': 10}</td>\n",
       "      <td>0.816264</td>\n",
       "      <td>0.813921</td>\n",
       "      <td>0.813408</td>\n",
       "      <td>0.827239</td>\n",
       "      <td>0.813130</td>\n",
       "      <td>0.816792</td>\n",
       "      <td>0.005339</td>\n",
       "      <td>13</td>\n",
       "    </tr>\n",
       "    <tr>\n",
       "      <th>13</th>\n",
       "      <td>2.824443</td>\n",
       "      <td>0.041832</td>\n",
       "      <td>0.047620</td>\n",
       "      <td>0.011372</td>\n",
       "      <td>12</td>\n",
       "      <td>50</td>\n",
       "      <td>{'max_depth': 12, 'n_estimators': 50}</td>\n",
       "      <td>0.817436</td>\n",
       "      <td>0.818608</td>\n",
       "      <td>0.819737</td>\n",
       "      <td>0.826770</td>\n",
       "      <td>0.820164</td>\n",
       "      <td>0.820543</td>\n",
       "      <td>0.003255</td>\n",
       "      <td>5</td>\n",
       "    </tr>\n",
       "    <tr>\n",
       "      <th>14</th>\n",
       "      <td>5.488227</td>\n",
       "      <td>0.095682</td>\n",
       "      <td>0.085385</td>\n",
       "      <td>0.008960</td>\n",
       "      <td>12</td>\n",
       "      <td>100</td>\n",
       "      <td>{'max_depth': 12, 'n_estimators': 100}</td>\n",
       "      <td>0.815796</td>\n",
       "      <td>0.820014</td>\n",
       "      <td>0.819972</td>\n",
       "      <td>0.828176</td>\n",
       "      <td>0.820164</td>\n",
       "      <td>0.820824</td>\n",
       "      <td>0.004029</td>\n",
       "      <td>3</td>\n",
       "    </tr>\n",
       "    <tr>\n",
       "      <th>15</th>\n",
       "      <td>8.893948</td>\n",
       "      <td>0.641119</td>\n",
       "      <td>0.109629</td>\n",
       "      <td>0.007778</td>\n",
       "      <td>12</td>\n",
       "      <td>200</td>\n",
       "      <td>{'max_depth': 12, 'n_estimators': 200}</td>\n",
       "      <td>0.816967</td>\n",
       "      <td>0.821889</td>\n",
       "      <td>0.820910</td>\n",
       "      <td>0.828176</td>\n",
       "      <td>0.819930</td>\n",
       "      <td>0.821574</td>\n",
       "      <td>0.003689</td>\n",
       "      <td>1</td>\n",
       "    </tr>\n",
       "  </tbody>\n",
       "</table>\n",
       "</div>"
      ],
      "text/plain": [
       "    mean_fit_time  std_fit_time  mean_score_time  std_score_time  \\\n",
       "0        0.251040      0.018133         0.007384        0.001351   \n",
       "1        1.059236      0.035086         0.023140        0.001466   \n",
       "2        2.047320      0.063785         0.047474        0.004951   \n",
       "3        4.215086      0.092631         0.120056        0.026697   \n",
       "4        0.356447      0.009865         0.008178        0.002130   \n",
       "5        1.902436      0.049403         0.035540        0.002969   \n",
       "6        3.623855      0.094591         0.057846        0.009072   \n",
       "7        7.035290      0.211472         0.110147        0.011747   \n",
       "8        0.526606      0.038349         0.009175        0.002034   \n",
       "9        2.419358      0.057485         0.040652        0.008018   \n",
       "10       4.595256      0.077893         0.077737        0.010034   \n",
       "11       8.929893      0.105405         0.132793        0.002622   \n",
       "12       0.602452      0.008267         0.009576        0.000489   \n",
       "13       2.824443      0.041832         0.047620        0.011372   \n",
       "14       5.488227      0.095682         0.085385        0.008960   \n",
       "15       8.893948      0.641119         0.109629        0.007778   \n",
       "\n",
       "   param_max_depth param_n_estimators                                  params  \\\n",
       "0                3                 10    {'max_depth': 3, 'n_estimators': 10}   \n",
       "1                3                 50    {'max_depth': 3, 'n_estimators': 50}   \n",
       "2                3                100   {'max_depth': 3, 'n_estimators': 100}   \n",
       "3                3                200   {'max_depth': 3, 'n_estimators': 200}   \n",
       "4                6                 10    {'max_depth': 6, 'n_estimators': 10}   \n",
       "5                6                 50    {'max_depth': 6, 'n_estimators': 50}   \n",
       "6                6                100   {'max_depth': 6, 'n_estimators': 100}   \n",
       "7                6                200   {'max_depth': 6, 'n_estimators': 200}   \n",
       "8                9                 10    {'max_depth': 9, 'n_estimators': 10}   \n",
       "9                9                 50    {'max_depth': 9, 'n_estimators': 50}   \n",
       "10               9                100   {'max_depth': 9, 'n_estimators': 100}   \n",
       "11               9                200   {'max_depth': 9, 'n_estimators': 200}   \n",
       "12              12                 10   {'max_depth': 12, 'n_estimators': 10}   \n",
       "13              12                 50   {'max_depth': 12, 'n_estimators': 50}   \n",
       "14              12                100  {'max_depth': 12, 'n_estimators': 100}   \n",
       "15              12                200  {'max_depth': 12, 'n_estimators': 200}   \n",
       "\n",
       "    split0_test_score  split1_test_score  split2_test_score  \\\n",
       "0            0.814390           0.819311           0.816690   \n",
       "1            0.812046           0.814390           0.814112   \n",
       "2            0.810640           0.812280           0.813174   \n",
       "3            0.811577           0.813218           0.813877   \n",
       "4            0.814390           0.820248           0.819737   \n",
       "5            0.815561           0.820951           0.819034   \n",
       "6            0.815796           0.820014           0.819269   \n",
       "7            0.815796           0.820717           0.818800   \n",
       "8            0.809702           0.816733           0.818331   \n",
       "9            0.815796           0.820248           0.820206   \n",
       "10           0.816264           0.820951           0.818565   \n",
       "11           0.815327           0.819077           0.820206   \n",
       "12           0.816264           0.813921           0.813408   \n",
       "13           0.817436           0.818608           0.819737   \n",
       "14           0.815796           0.820014           0.819972   \n",
       "15           0.816967           0.821889           0.820910   \n",
       "\n",
       "    split3_test_score  split4_test_score  mean_test_score  std_test_score  \\\n",
       "0            0.822785           0.815006         0.817636        0.003088   \n",
       "1            0.820675           0.813834         0.815011        0.002948   \n",
       "2            0.819034           0.810317         0.813089        0.003152   \n",
       "3            0.819972           0.813365         0.814402        0.002890   \n",
       "4            0.825832           0.818288         0.819699        0.003691   \n",
       "5            0.826067           0.820399         0.820402        0.003397   \n",
       "6            0.827239           0.820164         0.820496        0.003726   \n",
       "7            0.826770           0.819695         0.820355        0.003603   \n",
       "8            0.827707           0.823447         0.819183        0.006123   \n",
       "9            0.826067           0.821102         0.820684        0.003270   \n",
       "10           0.828411           0.820399         0.820918        0.004089   \n",
       "11           0.828176           0.819695         0.820496        0.004206   \n",
       "12           0.827239           0.813130         0.816792        0.005339   \n",
       "13           0.826770           0.820164         0.820543        0.003255   \n",
       "14           0.828176           0.820164         0.820824        0.004029   \n",
       "15           0.828176           0.819930         0.821574        0.003689   \n",
       "\n",
       "    rank_test_score  \n",
       "0                12  \n",
       "1                14  \n",
       "2                16  \n",
       "3                15  \n",
       "4                10  \n",
       "5                 8  \n",
       "6                 6  \n",
       "7                 9  \n",
       "8                11  \n",
       "9                 4  \n",
       "10                2  \n",
       "11                6  \n",
       "12               13  \n",
       "13                5  \n",
       "14                3  \n",
       "15                1  "
      ]
     },
     "execution_count": 9,
     "metadata": {},
     "output_type": "execute_result"
    }
   ],
   "source": [
    "gs_df = pd.DataFrame(gs.cv_results_)\n",
    "gs_df"
   ]
  },
  {
   "cell_type": "markdown",
   "metadata": {},
   "source": [
    "**Find the best hyperparameters from the cross-validation.**"
   ]
  },
  {
   "cell_type": "code",
   "execution_count": 10,
   "metadata": {},
   "outputs": [
    {
     "data": {
      "text/plain": [
       "{'max_depth': 12, 'n_estimators': 200}"
      ]
     },
     "execution_count": 10,
     "metadata": {},
     "output_type": "execute_result"
    }
   ],
   "source": [
    "gs.best_params_"
   ]
  },
  {
   "cell_type": "code",
   "execution_count": 11,
   "metadata": {},
   "outputs": [
    {
     "data": {
      "text/plain": [
       "0.8215742346819184"
      ]
     },
     "execution_count": 11,
     "metadata": {},
     "output_type": "execute_result"
    }
   ],
   "source": [
    "gs.best_score_"
   ]
  },
  {
   "cell_type": "code",
   "execution_count": 12,
   "metadata": {},
   "outputs": [
    {
     "data": {
      "text/plain": [
       "{'mean_fit_time': array([0.25103979, 1.05923562, 2.04731956, 4.21508627, 0.35644679,\n",
       "        1.90243649, 3.62385483, 7.03529019, 0.52660613, 2.41935802,\n",
       "        4.59525595, 8.92989302, 0.60245152, 2.8244432 , 5.48822689,\n",
       "        8.89394813]),\n",
       " 'std_fit_time': array([0.0181334 , 0.03508622, 0.06378521, 0.09263089, 0.00986547,\n",
       "        0.04940277, 0.09459055, 0.21147233, 0.03834908, 0.05748484,\n",
       "        0.07789276, 0.10540454, 0.00826728, 0.0418321 , 0.09568214,\n",
       "        0.64111944]),\n",
       " 'mean_score_time': array([0.00738354, 0.02313986, 0.04747367, 0.12005582, 0.00817847,\n",
       "        0.03553958, 0.05784616, 0.11014657, 0.0091754 , 0.04065232,\n",
       "        0.07773724, 0.132793  , 0.00957632, 0.04762044, 0.08538537,\n",
       "        0.10962925]),\n",
       " 'std_score_time': array([0.00135105, 0.0014657 , 0.00495136, 0.02669653, 0.00213021,\n",
       "        0.00296919, 0.00907199, 0.0117466 , 0.00203372, 0.00801758,\n",
       "        0.01003423, 0.00262163, 0.00048881, 0.01137191, 0.0089596 ,\n",
       "        0.00777757]),\n",
       " 'param_max_depth': masked_array(data=[3, 3, 3, 3, 6, 6, 6, 6, 9, 9, 9, 9, 12, 12, 12, 12],\n",
       "              mask=[False, False, False, False, False, False, False, False,\n",
       "                    False, False, False, False, False, False, False, False],\n",
       "        fill_value='?',\n",
       "             dtype=object),\n",
       " 'param_n_estimators': masked_array(data=[10, 50, 100, 200, 10, 50, 100, 200, 10, 50, 100, 200,\n",
       "                    10, 50, 100, 200],\n",
       "              mask=[False, False, False, False, False, False, False, False,\n",
       "                    False, False, False, False, False, False, False, False],\n",
       "        fill_value='?',\n",
       "             dtype=object),\n",
       " 'params': [{'max_depth': 3, 'n_estimators': 10},\n",
       "  {'max_depth': 3, 'n_estimators': 50},\n",
       "  {'max_depth': 3, 'n_estimators': 100},\n",
       "  {'max_depth': 3, 'n_estimators': 200},\n",
       "  {'max_depth': 6, 'n_estimators': 10},\n",
       "  {'max_depth': 6, 'n_estimators': 50},\n",
       "  {'max_depth': 6, 'n_estimators': 100},\n",
       "  {'max_depth': 6, 'n_estimators': 200},\n",
       "  {'max_depth': 9, 'n_estimators': 10},\n",
       "  {'max_depth': 9, 'n_estimators': 50},\n",
       "  {'max_depth': 9, 'n_estimators': 100},\n",
       "  {'max_depth': 9, 'n_estimators': 200},\n",
       "  {'max_depth': 12, 'n_estimators': 10},\n",
       "  {'max_depth': 12, 'n_estimators': 50},\n",
       "  {'max_depth': 12, 'n_estimators': 100},\n",
       "  {'max_depth': 12, 'n_estimators': 200}],\n",
       " 'split0_test_score': array([0.8143895 , 0.81204593, 0.81063979, 0.81157722, 0.8143895 ,\n",
       "        0.81556128, 0.81579564, 0.81579564, 0.80970237, 0.81579564,\n",
       "        0.81626435, 0.81532693, 0.81626435, 0.81743614, 0.81579564,\n",
       "        0.81696742]),\n",
       " 'split1_test_score': array([0.81931099, 0.8143895 , 0.81228029, 0.81321772, 0.82024842,\n",
       "        0.82095149, 0.82001406, 0.82071713, 0.81673307, 0.82024842,\n",
       "        0.82095149, 0.81907663, 0.81392079, 0.81860792, 0.82001406,\n",
       "        0.82188891]),\n",
       " 'split2_test_score': array([0.81669011, 0.81411158, 0.81317393, 0.81387717, 0.81973746,\n",
       "        0.81903422, 0.81926864, 0.81879981, 0.81833099, 0.82020628,\n",
       "        0.8185654 , 0.82020628, 0.81340835, 0.81973746, 0.81997187,\n",
       "        0.82090952]),\n",
       " 'split3_test_score': array([0.82278481, 0.82067511, 0.81903422, 0.81997187, 0.82583216,\n",
       "        0.82606657, 0.82723863, 0.82676981, 0.82770745, 0.82606657,\n",
       "        0.82841069, 0.82817628, 0.82723863, 0.82676981, 0.82817628,\n",
       "        0.82817628]),\n",
       " 'split4_test_score': array([0.81500586, 0.81383353, 0.81031653, 0.8133646 , 0.81828839,\n",
       "        0.82039859, 0.82016413, 0.81969519, 0.82344666, 0.82110199,\n",
       "        0.82039859, 0.81969519, 0.81313013, 0.82016413, 0.82016413,\n",
       "        0.81992966]),\n",
       " 'mean_test_score': array([0.8176363 , 0.81501102, 0.81308893, 0.81440158, 0.81969903,\n",
       "        0.82040223, 0.82049599, 0.82035535, 0.81918335, 0.82068351,\n",
       "        0.82091791, 0.82049599, 0.81679246, 0.82054287, 0.82082415,\n",
       "        0.82157423]),\n",
       " 'std_test_score': array([0.00308763, 0.00294806, 0.00315244, 0.00288988, 0.0036906 ,\n",
       "        0.00339693, 0.00372578, 0.00360345, 0.00612315, 0.00326998,\n",
       "        0.0040891 , 0.00420591, 0.00533863, 0.00325464, 0.0040289 ,\n",
       "        0.00368935]),\n",
       " 'rank_test_score': array([12, 14, 16, 15, 10,  8,  6,  9, 11,  4,  2,  6, 13,  5,  3,  1])}"
      ]
     },
     "execution_count": 12,
     "metadata": {},
     "output_type": "execute_result"
    }
   ],
   "source": [
    "gs.cv_results_"
   ]
  },
  {
   "cell_type": "markdown",
   "metadata": {},
   "source": [
    "________________________________________________________________________________________________________\n",
    "**Create a `pcolormesh` visualization of the mean testing score for each combination of hyperparameters.**\n",
    "\n",
    "<details>\n",
    "    <summary>Hint:</summary>\n",
    "    Remember to reshape the values of the mean testing scores to be a two-dimensional 4x4 grid.\n",
    "</details>"
   ]
  },
  {
   "cell_type": "code",
   "execution_count": 13,
   "metadata": {},
   "outputs": [],
   "source": [
    "# Create a 5x5 grid\n",
    "x,y = np.meshgrid(range(5), range(5))"
   ]
  },
  {
   "cell_type": "code",
   "execution_count": 14,
   "metadata": {},
   "outputs": [],
   "source": [
    "# Set color map to `plt.cm.jet`\n",
    "color_map= plt.cm.jet"
   ]
  },
  {
   "cell_type": "code",
   "execution_count": 15,
   "metadata": {
    "eid": "f0c62"
   },
   "outputs": [
    {
     "data": {
      "text/plain": [
       "Text(0, 0.5, 'Maximum depth')"
      ]
     },
     "execution_count": 15,
     "metadata": {},
     "output_type": "execute_result"
    },
    {
     "data": {
      "image/png": "[encoded data removed]",
      "text/plain": [
       "<Figure size 432x288 with 2 Axes>"
      ]
     },
     "metadata": {
      "needs_background": "light"
     },
     "output_type": "display_data"
    }
   ],
   "source": [
    "# Visualize pcolormesh\n",
    "ax = plt.axes()\n",
    "graph = ax.pcolormesh(x, y, gs_df['mean_test_score'].values.reshape((4,4)))\n",
    "plt.colorbar(graph, label='Mean Testing Score')\n",
    "ax.set_xlabel('Number of trees')\n",
    "ax.set_ylabel('Maximum depth')"
   ]
  },
  {
   "cell_type": "markdown",
   "metadata": {},
   "source": [
    "________________________________________________________________________________________________________\n",
    "**Conclude which set of hyperparameters to use.**"
   ]
  },
  {
   "cell_type": "code",
   "execution_count": 16,
   "metadata": {},
   "outputs": [
    {
     "data": {
      "text/plain": [
       "LIMIT_BAL                    -0.154423\n",
       "SEX                          -0.039945\n",
       "EDUCATION                     0.034966\n",
       "MARRIAGE                     -0.026030\n",
       "AGE                           0.014334\n",
       "PAY_1                         0.325365\n",
       "PAY_2                         0.263649\n",
       "PAY_3                         0.238085\n",
       "PAY_4                         0.219889\n",
       "PAY_5                         0.204948\n",
       "PAY_6                         0.190182\n",
       "BILL_AMT1                    -0.020508\n",
       "BILL_AMT2                    -0.014579\n",
       "BILL_AMT3                    -0.014649\n",
       "BILL_AMT4                    -0.011349\n",
       "BILL_AMT5                    -0.006753\n",
       "BILL_AMT6                    -0.006274\n",
       "PAY_AMT1                     -0.072431\n",
       "PAY_AMT2                     -0.061555\n",
       "PAY_AMT3                     -0.058010\n",
       "PAY_AMT4                     -0.054572\n",
       "PAY_AMT5                     -0.056651\n",
       "PAY_AMT6                     -0.054838\n",
       "default payment next month    1.000000\n",
       "graduate school              -0.049595\n",
       "high school                   0.035943\n",
       "others                       -0.044411\n",
       "university                    0.031817\n",
       "Name: default payment next month, dtype: float64"
      ]
     },
     "execution_count": 16,
     "metadata": {},
     "output_type": "execute_result"
    }
   ],
   "source": [
    "# Create a dataframe of the feature names and importance\n",
    "df.corr()['default payment next month']"
   ]
  },
  {
   "cell_type": "code",
   "execution_count": 17,
   "metadata": {},
   "outputs": [
    {
     "data": {
      "text/plain": [
       "array([0.0598768 , 0.01245122, 0.00781853, 0.04287095, 0.30459238,\n",
       "       0.05397308, 0.05202858, 0.04863935, 0.04617078, 0.04306215,\n",
       "       0.04571771, 0.0605955 , 0.05169707, 0.04825381, 0.04249536,\n",
       "       0.03998141, 0.03977532])"
      ]
     },
     "execution_count": 17,
     "metadata": {},
     "output_type": "execute_result"
    }
   ],
   "source": [
    "\n",
    "gs.best_estimator_.feature_importances_"
   ]
  },
  {
   "cell_type": "code",
   "execution_count": 18,
   "metadata": {},
   "outputs": [],
   "source": [
    "df_new = pd.DataFrame({'Feature name':features_response[:-1],\n",
    "                      'Importance':gs.best_estimator_.feature_importances_})"
   ]
  },
  {
   "cell_type": "code",
   "execution_count": 19,
   "metadata": {},
   "outputs": [
    {
     "data": {
      "text/html": [
       "<div>\n",
       "<style scoped>\n",
       "    .dataframe tbody tr th:only-of-type {\n",
       "        vertical-align: middle;\n",
       "    }\n",
       "\n",
       "    .dataframe tbody tr th {\n",
       "        vertical-align: top;\n",
       "    }\n",
       "\n",
       "    .dataframe thead th {\n",
       "        text-align: right;\n",
       "    }\n",
       "</style>\n",
       "<table border=\"1\" class=\"dataframe\">\n",
       "  <thead>\n",
       "    <tr style=\"text-align: right;\">\n",
       "      <th></th>\n",
       "      <th>Feature name</th>\n",
       "      <th>Importance</th>\n",
       "    </tr>\n",
       "  </thead>\n",
       "  <tbody>\n",
       "    <tr>\n",
       "      <th>4</th>\n",
       "      <td>PAY_1</td>\n",
       "      <td>0.304592</td>\n",
       "    </tr>\n",
       "    <tr>\n",
       "      <th>11</th>\n",
       "      <td>PAY_AMT1</td>\n",
       "      <td>0.060596</td>\n",
       "    </tr>\n",
       "    <tr>\n",
       "      <th>0</th>\n",
       "      <td>LIMIT_BAL</td>\n",
       "      <td>0.059877</td>\n",
       "    </tr>\n",
       "    <tr>\n",
       "      <th>5</th>\n",
       "      <td>BILL_AMT1</td>\n",
       "      <td>0.053973</td>\n",
       "    </tr>\n",
       "    <tr>\n",
       "      <th>6</th>\n",
       "      <td>BILL_AMT2</td>\n",
       "      <td>0.052029</td>\n",
       "    </tr>\n",
       "    <tr>\n",
       "      <th>12</th>\n",
       "      <td>PAY_AMT2</td>\n",
       "      <td>0.051697</td>\n",
       "    </tr>\n",
       "    <tr>\n",
       "      <th>7</th>\n",
       "      <td>BILL_AMT3</td>\n",
       "      <td>0.048639</td>\n",
       "    </tr>\n",
       "    <tr>\n",
       "      <th>13</th>\n",
       "      <td>PAY_AMT3</td>\n",
       "      <td>0.048254</td>\n",
       "    </tr>\n",
       "    <tr>\n",
       "      <th>8</th>\n",
       "      <td>BILL_AMT4</td>\n",
       "      <td>0.046171</td>\n",
       "    </tr>\n",
       "    <tr>\n",
       "      <th>10</th>\n",
       "      <td>BILL_AMT6</td>\n",
       "      <td>0.045718</td>\n",
       "    </tr>\n",
       "    <tr>\n",
       "      <th>9</th>\n",
       "      <td>BILL_AMT5</td>\n",
       "      <td>0.043062</td>\n",
       "    </tr>\n",
       "    <tr>\n",
       "      <th>3</th>\n",
       "      <td>AGE</td>\n",
       "      <td>0.042871</td>\n",
       "    </tr>\n",
       "    <tr>\n",
       "      <th>14</th>\n",
       "      <td>PAY_AMT4</td>\n",
       "      <td>0.042495</td>\n",
       "    </tr>\n",
       "    <tr>\n",
       "      <th>15</th>\n",
       "      <td>PAY_AMT5</td>\n",
       "      <td>0.039981</td>\n",
       "    </tr>\n",
       "    <tr>\n",
       "      <th>16</th>\n",
       "      <td>PAY_AMT6</td>\n",
       "      <td>0.039775</td>\n",
       "    </tr>\n",
       "    <tr>\n",
       "      <th>1</th>\n",
       "      <td>EDUCATION</td>\n",
       "      <td>0.012451</td>\n",
       "    </tr>\n",
       "    <tr>\n",
       "      <th>2</th>\n",
       "      <td>MARRIAGE</td>\n",
       "      <td>0.007819</td>\n",
       "    </tr>\n",
       "  </tbody>\n",
       "</table>\n",
       "</div>"
      ],
      "text/plain": [
       "   Feature name  Importance\n",
       "4         PAY_1    0.304592\n",
       "11     PAY_AMT1    0.060596\n",
       "0     LIMIT_BAL    0.059877\n",
       "5     BILL_AMT1    0.053973\n",
       "6     BILL_AMT2    0.052029\n",
       "12     PAY_AMT2    0.051697\n",
       "7     BILL_AMT3    0.048639\n",
       "13     PAY_AMT3    0.048254\n",
       "8     BILL_AMT4    0.046171\n",
       "10    BILL_AMT6    0.045718\n",
       "9     BILL_AMT5    0.043062\n",
       "3           AGE    0.042871\n",
       "14     PAY_AMT4    0.042495\n",
       "15     PAY_AMT5    0.039981\n",
       "16     PAY_AMT6    0.039775\n",
       "1     EDUCATION    0.012451\n",
       "2      MARRIAGE    0.007819"
      ]
     },
     "execution_count": 19,
     "metadata": {},
     "output_type": "execute_result"
    }
   ],
   "source": [
    "# Sort values by importance\n",
    "df_new.sort_values('Importance',ascending=False)"
   ]
  },
  {
   "cell_type": "code",
   "execution_count": null,
   "metadata": {},
   "outputs": [],
   "source": []
  }
 ],
 "metadata": {
  "kernelspec": {
   "display_name": "Python 3",
   "language": "python",
   "name": "python3"
  },
  "language_info": {
   "codemirror_mode": {
    "name": "ipython",
    "version": 3
   },
   "file_extension": ".py",
   "mimetype": "text/x-python",
   "name": "python",
   "nbconvert_exporter": "python",
   "pygments_lexer": "ipython3",
   "version": "3.7.5"
  }
 },
 "nbformat": 4,
 "nbformat_minor": 4
}
